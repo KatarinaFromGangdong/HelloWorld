{
 "cells": [
  {
   "cell_type": "code",
   "execution_count": 1,
   "metadata": {},
   "outputs": [],
   "source": [
    "a = \"Hello World\"\n",
    "def helloWorld():\n",
    "    return (a)\n",
    "\n",
    "ask = input(\"Enter name: \")\n",
    "try:\n",
    "    while True:\n",
    "        if ask == \"jillien\":\n",
    "            helloWorld()\n",
    "            break\n",
    "        else:\n",
    "            print(\"Error 404\")\n",
    "            break\n",
    "except KeyboardInterrupt:\n",
    "    print(\"something went wrong!\")"
   ]
  },
  {
   "cell_type": "code",
   "execution_count": 2,
   "metadata": {},
   "outputs": [
    {
     "name": "stdout",
     "output_type": "stream",
     "text": [
      "Name --> jillien arche \n",
      " Student number --> 1921080\n",
      "Your email -->  jillien arche 1921080 @gmail.com\n"
     ]
    }
   ],
   "source": [
    "class Student:\n",
    "    def __init__(self, studentName, studentIDno) -> None:\n",
    "        self.studentName = studentName\n",
    "        self.studentIDno = studentIDno\n",
    "\n",
    "name = input(\"Student name --> \")\n",
    "id_no = int(input(\"Student number --> \"))\n",
    "\n",
    "profile = Student(name,id_no)\n",
    "\n",
    "print(\"Name -->\",profile.studentName,\"\\n\", \"Student number -->\",profile.studentIDno)\n",
    "print(\"Your email --> \", profile.studentName,profile.studentIDno,\"@gmail.com\")"
   ]
  },
  {
   "cell_type": "code",
   "execution_count": 26,
   "metadata": {},
   "outputs": [
    {
     "ename": "ModuleNotFoundError",
     "evalue": "No module named 'board'",
     "output_type": "error",
     "traceback": [
      "\u001b[1;31m---------------------------------------------------------------------------\u001b[0m",
      "\u001b[1;31mModuleNotFoundError\u001b[0m                       Traceback (most recent call last)",
      "Cell \u001b[1;32mIn[26], line 2\u001b[0m\n\u001b[0;32m      1\u001b[0m \u001b[39mimport\u001b[39;00m \u001b[39mtime\u001b[39;00m\n\u001b[1;32m----> 2\u001b[0m \u001b[39mimport\u001b[39;00m \u001b[39mboard\u001b[39;00m\n\u001b[0;32m      3\u001b[0m \u001b[39mimport\u001b[39;00m \u001b[39mbusio\u001b[39;00m\n\u001b[0;32m      4\u001b[0m \u001b[39mimport\u001b[39;00m \u001b[39madafruit_ads1x15\u001b[39;00m\u001b[39m.\u001b[39;00m\u001b[39mads1115\u001b[39;00m \u001b[39mas\u001b[39;00m \u001b[39mADS\u001b[39;00m\n",
      "\u001b[1;31mModuleNotFoundError\u001b[0m: No module named 'board'"
     ]
    }
   ],
   "source": [
    "import time\n",
    "import board\n",
    "import busio\n",
    "import adafruit_ads1x15.ads1115 as ADS\n",
    "from adafruit_ads1x15.analog_in import AnalogIn\n",
    "\n",
    "# Create I2C bus.\n",
    "i2c = busio.I2C(board.SCL, board.SDA)\n",
    "\n",
    "# Create ADS object.\n",
    "ads = ADS.ADS1115(i2c)\n",
    "\n",
    "# Create analog input channel for turbidity sensor.\n",
    "turbidity_channel = AnalogIn(ads, ADS.P0)\n",
    "\n",
    "# Set up calibration values.\n",
    "CALIBRATION_SAMPLES = 100\n",
    "CALIBRATION_DELAY = 0.01\n",
    "calibration_sum = 0\n",
    "\n",
    "print(\"Calibrating turbidity sensor...\")\n",
    "for i in range(CALIBRATION_SAMPLES):\n",
    "    calibration_sum += turbidity_channel.value\n",
    "    time.sleep(CALIBRATION_DELAY)\n",
    "\n",
    "calibration_value = calibration_sum / CALIBRATION_SAMPLES\n",
    "\n",
    "print(f\"Calibration value: {calibration_value}\")\n",
    "\n",
    "# Continuously measure turbidity and print the value.\n",
    "while True:\n",
    "    # Get raw ADC value and convert to voltage.\n",
    "    raw_value = turbidity_channel.value\n",
    "    voltage = raw_value / 32767 * 6.144  # ADS1115 range is +/-6.144V\n",
    "\n",
    "    # Subtract calibration value and clamp to 0.\n",
    "    turbidity = max(raw_value - calibration_value, 0)\n",
    "\n",
    "    print(f\"Turbidity: {turbidity}\")\n",
    "\n",
    "    # Wait before taking the next measurement.\n",
    "    time.sleep(0.1)\n"
   ]
  },
  {
   "cell_type": "code",
   "execution_count": null,
   "metadata": {},
   "outputs": [
    {
     "name": "stdout",
     "output_type": "stream",
     "text": [
      "\n",
      "+------------------------------------+\n",
      "| WELCOME TO AMU'S SIMPLE CALCULATOR |\n",
      "+------------------------------------+\n",
      "| 1. ADDITION                        |\n",
      "| 2. SUBTRACTION                     |\n",
      "| 3. MULTIPLICATION                  |\n",
      "| 4. DIVISION                        |\n",
      "+------------------------------------+\n",
      "| PRESS Y TO CONTINUE OR N TO CANCEL |\n",
      "+------------------------------------+\n",
      "\n",
      "\n"
     ]
    },
    {
     "ename": "NameError",
     "evalue": "name 'x' is not defined",
     "output_type": "error",
     "traceback": [
      "\u001b[1;31m---------------------------------------------------------------------------\u001b[0m",
      "\u001b[1;31mNameError\u001b[0m                                 Traceback (most recent call last)",
      "Cell \u001b[1;32mIn[9], line 33\u001b[0m\n\u001b[0;32m     31\u001b[0m \u001b[39mtry\u001b[39;00m: \n\u001b[0;32m     32\u001b[0m     \u001b[39mif\u001b[39;00m \u001b[39m\"\u001b[39m\u001b[39my\u001b[39m\u001b[39m\"\u001b[39m \u001b[39min\u001b[39;00m confirmation:\n\u001b[1;32m---> 33\u001b[0m         WholeOperation()\n\u001b[0;32m     34\u001b[0m     \u001b[39melse\u001b[39;00m:\n\u001b[0;32m     35\u001b[0m         \u001b[39mpass\u001b[39;00m\n",
      "Cell \u001b[1;32mIn[9], line 14\u001b[0m, in \u001b[0;36mWholeOperation\u001b[1;34m()\u001b[0m\n\u001b[0;32m     12\u001b[0m x \u001b[39m=\u001b[39m \u001b[39mint\u001b[39m(\u001b[39minput\u001b[39m(\u001b[39m\"\u001b[39m\u001b[39mEnter num 1: \u001b[39m\u001b[39m\"\u001b[39m))\n\u001b[0;32m     13\u001b[0m y \u001b[39m=\u001b[39m \u001b[39mint\u001b[39m(\u001b[39minput\u001b[39m(\u001b[39m\"\u001b[39m\u001b[39mEnter num 2: \u001b[39m\u001b[39m\"\u001b[39m))\n\u001b[1;32m---> 14\u001b[0m addition()\n",
      "Cell \u001b[1;32mIn[9], line 2\u001b[0m, in \u001b[0;36maddition\u001b[1;34m()\u001b[0m\n\u001b[0;32m      1\u001b[0m \u001b[39mdef\u001b[39;00m \u001b[39maddition\u001b[39m():\n\u001b[1;32m----> 2\u001b[0m     \u001b[39mreturn\u001b[39;00m x\u001b[39m+\u001b[39my\n",
      "\u001b[1;31mNameError\u001b[0m: name 'x' is not defined"
     ]
    }
   ],
   "source": [
    "def addition(x,y):\n",
    "    return x+y\n",
    "def subtraction(x,y):\n",
    "    return x-y\n",
    "def multiplication(x,y):\n",
    "    return x*y\n",
    "def division(x,y):\n",
    "    return x/y\n",
    "def WholeOperation():\n",
    "    operation = input(\"Menu number: \")\n",
    "    if \"1\" in operation:\n",
    "        x = int(input(\"Enter num 1: \"))\n",
    "        y = int(input(\"Enter num 2: \"))\n",
    "        addition()\n",
    "        \n",
    "menu = \"\"\"\n",
    "+------------------------------------+\n",
    "| WELCOME TO AMU'S SIMPLE CALCULATOR |\n",
    "+------------------------------------+\n",
    "| 1. ADDITION                        |\n",
    "| 2. SUBTRACTION                     |\n",
    "| 3. MULTIPLICATION                  |\n",
    "| 4. DIVISION                        |\n",
    "+------------------------------------+\n",
    "| PRESS Y TO CONTINUE OR N TO CANCEL |\n",
    "+------------------------------------+\n",
    "\n",
    "\"\"\"\n",
    "print(menu)\n",
    "confirmation = input(\"Would you like to continue[y/n]: \")\n",
    "try: \n",
    "    if \"y\" in confirmation:\n",
    "        WholeOperation()\n",
    "    else:\n",
    "        pass\n",
    "except KeyboardInterrupt:\n",
    "    print(\"Terminated\")\n"
   ]
  },
  {
   "cell_type": "code",
   "execution_count": 13,
   "metadata": {},
   "outputs": [
    {
     "name": "stdout",
     "output_type": "stream",
     "text": [
      "123.0\n"
     ]
    }
   ],
   "source": [
    "import string\n",
    "try:\n",
    "    input_command = input(\"enter name: \")\n",
    "    # sampleVar = float(string.split(input_command, ',')[1])\n",
    "    # input_command = input_command.upper\n",
    "    sampleVar = float(input_command.split(',')[1])\n",
    "    print(sampleVar)\n",
    "except Exception as error:\n",
    "    print(\"An error has occurred:\", error)"
   ]
  },
  {
   "cell_type": "code",
   "execution_count": 14,
   "metadata": {},
   "outputs": [
    {
     "ename": "ModuleNotFoundError",
     "evalue": "No module named 'smbus'",
     "output_type": "error",
     "traceback": [
      "\u001b[1;31m---------------------------------------------------------------------------\u001b[0m",
      "\u001b[1;31mModuleNotFoundError\u001b[0m                       Traceback (most recent call last)",
      "Cell \u001b[1;32mIn[14], line 1\u001b[0m\n\u001b[1;32m----> 1\u001b[0m \u001b[39mimport\u001b[39;00m \u001b[39msmbus\u001b[39;00m\n\u001b[0;32m      3\u001b[0m bus \u001b[39m=\u001b[39m smbus\u001b[39m.\u001b[39mSMBus(\u001b[39m1\u001b[39m) \u001b[39m# or 0 depending on your hardware\u001b[39;00m\n\u001b[0;32m      5\u001b[0m \u001b[39m# Read a byte from address 0x68, register 0x41\u001b[39;00m\n",
      "\u001b[1;31mModuleNotFoundError\u001b[0m: No module named 'smbus'"
     ]
    }
   ],
   "source": [
    "import smbus\n",
    "\n",
    "bus = smbus.SMBus(1) # or 0 depending on your hardware\n",
    "\n",
    "# Read a byte from address 0x68, register 0x41\n",
    "value = bus.read_byte_data(0x68, 0x41)\n",
    "\n",
    "print(value)"
   ]
  },
  {
   "cell_type": "code",
   "execution_count": 1,
   "metadata": {},
   "outputs": [
    {
     "ename": "ModuleNotFoundError",
     "evalue": "No module named 'smbus'",
     "output_type": "error",
     "traceback": [
      "\u001b[1;31m---------------------------------------------------------------------------\u001b[0m",
      "\u001b[1;31mModuleNotFoundError\u001b[0m                       Traceback (most recent call last)",
      "Cell \u001b[1;32mIn[1], line 1\u001b[0m\n\u001b[1;32m----> 1\u001b[0m \u001b[39mimport\u001b[39;00m \u001b[39msmbus\u001b[39;00m\n\u001b[0;32m      2\u001b[0m \u001b[39mimport\u001b[39;00m \u001b[39mtime\u001b[39;00m\n\u001b[0;32m      4\u001b[0m \u001b[39m# I2C address of the EZO pH sensor\u001b[39;00m\n",
      "\u001b[1;31mModuleNotFoundError\u001b[0m: No module named 'smbus'"
     ]
    }
   ],
   "source": [
    "import smbus\n",
    "import time\n",
    "\n",
    "# I2C address of the EZO pH sensor\n",
    "ADDRESS = 0x63\n",
    "\n",
    "# Create an instance of the SMBus\n",
    "bus = smbus.SMBus(1)\n",
    "\n",
    "# Send the \"R\" command to the EZO pH sensor to request a reading\n",
    "bus.write_byte(ADDRESS, ord('R'))\n",
    "\n",
    "# Wait for the EZO pH sensor to complete the reading\n",
    "time.sleep(1.5)\n",
    "\n",
    "# Read the response from the EZO pH sensor\n",
    "response = bus.read_i2c_block_data(ADDRESS, 0x00, 7)\n",
    "\n",
    "# Convert the response to pH level\n",
    "ph_level = bytearray(response[1:6]).decode(\"utf-8\")\n",
    "\n",
    "# Print the pH level\n",
    "print(\"pH level: \", ph_level)\n",
    "\n"
   ]
  },
  {
   "cell_type": "code",
   "execution_count": 5,
   "metadata": {},
   "outputs": [
    {
     "ename": "ModuleNotFoundError",
     "evalue": "No module named 'smbus'",
     "output_type": "error",
     "traceback": [
      "\u001b[1;31m---------------------------------------------------------------------------\u001b[0m",
      "\u001b[1;31mModuleNotFoundError\u001b[0m                       Traceback (most recent call last)",
      "Cell \u001b[1;32mIn[5], line 3\u001b[0m\n\u001b[0;32m      1\u001b[0m \u001b[39m# pH program with loop\u001b[39;00m\n\u001b[1;32m----> 3\u001b[0m \u001b[39mimport\u001b[39;00m \u001b[39msmbus\u001b[39;00m\u001b[39m,\u001b[39m \u001b[39mtime\u001b[39;00m\n\u001b[0;32m      5\u001b[0m \u001b[39mtry\u001b[39;00m:\n\u001b[0;32m      6\u001b[0m     \u001b[39m# I2C ph_address of the EZO pH sensor\u001b[39;00m\n\u001b[0;32m      7\u001b[0m     ph_address \u001b[39m=\u001b[39m \u001b[39m0x63\u001b[39m\n",
      "\u001b[1;31mModuleNotFoundError\u001b[0m: No module named 'smbus'"
     ]
    }
   ],
   "source": [
    "# pH program with loop\n",
    "\n",
    "import smbus, time\n",
    "\n",
    "try:\n",
    "    # I2C ph_address of the EZO pH sensor\n",
    "    ph_address = 0x63\n",
    "\n",
    "    # Create an instance of the SMBus\n",
    "    bus = smbus.SMBus(1)\n",
    "\n",
    "    # Send the \"R\" command to the EZO pH sensor to request a reading\n",
    "    bus.write_byte(ph_address, ord('R'))\n",
    "    print(bus)\n",
    "\n",
    "    # Wait for the EZO pH sensor to complete the reading\n",
    "    time.sleep(1.5)\n",
    "\n",
    "    # Read the response from the EZO pH sensor\n",
    "    response = bus.read_i2c_block_data(ph_address, 0x00, 7)\n",
    "    print(response)\n",
    "\n",
    "    # Convert the response to pH level\n",
    "    ph_level = bytearray(response[1:6]).decode('utf-8')\n",
    "\n",
    "    # Print the pH level\n",
    "    print(\"pH level: \", ph_level)\n",
    "except Exception or ModuleNotFoundError as error:\n",
    "    print(\"Something went wrong! \", error)"
   ]
  },
  {
   "cell_type": "code",
   "execution_count": 5,
   "metadata": {},
   "outputs": [
    {
     "name": "stdout",
     "output_type": "stream",
     "text": [
      "ph Level:  \n",
      "ph Level:  \n",
      "ph Level:  \n",
      "ph Level:  \n",
      "\n",
      "Keyboard interrupted\n"
     ]
    }
   ],
   "source": [
    "import random, time\n",
    "\n",
    "try:\n",
    "    previous_random_list = []\n",
    "    warning = input('''\n",
    "    Warning! This is a loop program, if you want\n",
    "    to stop the program while running, press \"ctrl + c\"\n",
    "    if it doesn't work. just restart the pc!\n",
    "    just kidding, manually stop the program.\n",
    "\n",
    "    you want to proceed? [y/n]: ''')\n",
    "    if 'y' in warning:\n",
    "        while True:\n",
    "            # creating function to handle a number generator.\n",
    "            random_list = [random.randint(1, 14) for j in range(5)]\n",
    "            previous_random_list = random_list\n",
    "            ph_val = bytearray(previous_random_list[1:6]).decode('utf-8')\n",
    "            time.sleep(1.5)\n",
    "            # print(f\"Random list {i}: {random_list}\")\n",
    "            print(\"ph Level: \", ph_val)\n",
    "except Exception as error:\n",
    "    print(\"Something went wrong! --->\", error)\n",
    "except KeyboardInterrupt:\n",
    "    print(\"\\nKeyboard interrupted\")\n"
   ]
  },
  {
   "cell_type": "code",
   "execution_count": 1,
   "metadata": {},
   "outputs": [
    {
     "ename": "NameError",
     "evalue": "name 'i' is not defined",
     "output_type": "error",
     "traceback": [
      "\u001b[1;31m---------------------------------------------------------------------------\u001b[0m",
      "\u001b[1;31mNameError\u001b[0m                                 Traceback (most recent call last)",
      "Cell \u001b[1;32mIn[1], line 14\u001b[0m\n\u001b[0;32m     12\u001b[0m \u001b[39m# Print the random number list\u001b[39;00m\n\u001b[0;32m     13\u001b[0m time\u001b[39m.\u001b[39msleep(\u001b[39m2\u001b[39m)\n\u001b[1;32m---> 14\u001b[0m \u001b[39mprint\u001b[39m(\u001b[39mf\u001b[39m\u001b[39m\"\u001b[39m\u001b[39mRandom list \u001b[39m\u001b[39m{\u001b[39;00mi\u001b[39m}\u001b[39;00m\u001b[39m: \u001b[39m\u001b[39m{\u001b[39;00mrandom_list\u001b[39m}\u001b[39;00m\u001b[39m\"\u001b[39m)\n",
      "\u001b[1;31mNameError\u001b[0m: name 'i' is not defined"
     ]
    }
   ],
   "source": [
    "import random, time\n",
    "\n",
    "# Define the loop\n",
    "previous_random_list = []\n",
    "while True:\n",
    "    # Generate a random number list of length 5\n",
    "    random_list = [random.randint(1, 100) for i in range(5)]\n",
    "    \n",
    "    # Replace the last random list with the current one\n",
    "    previous_random_list = random_list\n",
    "    \n",
    "    # Print the random number list\n",
    "    time.sleep(2)\n",
    "    print(f\"Random list {i}: {random_list}\")\n"
   ]
  },
  {
   "cell_type": "code",
   "execution_count": null,
   "metadata": {},
   "outputs": [],
   "source": [
    "# final program for pH\n",
    "import smbus\n",
    "import time\n",
    "\n",
    "while True:\n",
    "    try:\n",
    "        # I2C ph_address of the EZO pH sensor\n",
    "        ph_address = 0x63 # 0x61 for DO\n",
    "\n",
    "        # Create an instance of the SMBus\n",
    "        bus = smbus.SMBus(1)\n",
    "\n",
    "        # Send the \"R\" command to the EZO pH sensor to request a reading\n",
    "        bus.write_byte(ph_address, ord('R'))\n",
    "\n",
    "        # Wait for the EZO pH sensor to complete the reading\n",
    "        time.sleep(1.5)\n",
    "\n",
    "        # Read the response from the EZO pH sensor\n",
    "        response = bus.read_i2c_block_data(ph_address, 0x00, 7)\n",
    "\n",
    "        # Convert the response to pH level\n",
    "        ph_level = bytearray(response[1:6]).decode('utf-8')\n",
    "\n",
    "        # Print the pH level\n",
    "        print(\"pH level: \", ph_level)\n",
    "        time.sleep(4) # gives 4s before reading again\n",
    "\n",
    "    except Exception as error:\n",
    "        print(\"Something went wrong! --->\", error)\n",
    "    except KeyboardInterrupt:\n",
    "        print(\"\\nKeyboard interrupted\")"
   ]
  },
  {
   "cell_type": "code",
   "execution_count": 7,
   "metadata": {},
   "outputs": [
    {
     "ename": "IndexError",
     "evalue": "list index out of range",
     "output_type": "error",
     "traceback": [
      "\u001b[1;31m---------------------------------------------------------------------------\u001b[0m",
      "\u001b[1;31mIndexError\u001b[0m                                Traceback (most recent call last)",
      "Cell \u001b[1;32mIn[7], line 9\u001b[0m\n\u001b[0;32m      6\u001b[0m os\u001b[39m.\u001b[39msystem(\u001b[39m'\u001b[39m\u001b[39mmodprobe w1-therm\u001b[39m\u001b[39m'\u001b[39m)\n\u001b[0;32m      8\u001b[0m base_dir \u001b[39m=\u001b[39m \u001b[39m'\u001b[39m\u001b[39m/sys/bus/w1/devices/\u001b[39m\u001b[39m'\u001b[39m\n\u001b[1;32m----> 9\u001b[0m device_folder \u001b[39m=\u001b[39m glob\u001b[39m.\u001b[39;49mglob(base_dir \u001b[39m+\u001b[39;49m \u001b[39m'\u001b[39;49m\u001b[39m28*\u001b[39;49m\u001b[39m'\u001b[39;49m)[\u001b[39m0\u001b[39;49m]\n\u001b[0;32m     10\u001b[0m device_file \u001b[39m=\u001b[39m device_folder \u001b[39m+\u001b[39m \u001b[39m'\u001b[39m\u001b[39m/w1_slave\u001b[39m\u001b[39m'\u001b[39m\n\u001b[0;32m     12\u001b[0m \u001b[39mdef\u001b[39;00m \u001b[39mread_temp_raw\u001b[39m():\n",
      "\u001b[1;31mIndexError\u001b[0m: list index out of range"
     ]
    }
   ],
   "source": [
    "import os\n",
    "import glob\n",
    "import time\n",
    " \n",
    "os.system('modprobe w1-gpio')\n",
    "os.system('modprobe w1-therm')\n",
    " \n",
    "base_dir = '/sys/bus/w1/devices/'\n",
    "device_folder = glob.glob(base_dir + '28*')[0]\n",
    "device_file = device_folder + '/w1_slave'\n",
    " \n",
    "def read_temp_raw():\n",
    "    f = open(device_file, 'r')\n",
    "    lines = f.readlines()\n",
    "    f.close()\n",
    "    return lines\n",
    " \n",
    "def read_temp():\n",
    "    lines = read_temp_raw()\n",
    "    while lines[0].strip()[-3:] != 'YES':\n",
    "        time.sleep(0.2)\n",
    "        lines = read_temp_raw()\n",
    "    equals_pos = lines[1].find('t=')\n",
    "    if equals_pos != -1:\n",
    "        temp_string = lines[1][equals_pos+2:]\n",
    "        temp_c = float(temp_string) / 1000.0\n",
    "        return temp_c\n",
    " \n",
    "while True:\n",
    "    print(\"Temperature: \", read_temp(), \"C\")\n",
    "    time.sleep(1)\n"
   ]
  },
  {
   "cell_type": "code",
   "execution_count": 6,
   "metadata": {},
   "outputs": [],
   "source": [
    "import csv\n",
    "import random\n",
    "\n",
    "# Generate some random data\n",
    "data = [[random.randint(1, 10) for j in range(5)] for i in range(10)]\n",
    "\n",
    "# Create a new CSV file\n",
    "with open('random_data.csv', mode='w', newline='') as file:\n",
    "    # Create a CSV writer object\n",
    "    writer = csv.writer(file)\n",
    "\n",
    "    # Write the header row\n",
    "    writer.writerow(['Column 1', 'Column 2', 'Column 3', 'Column 4', 'Column 5'])\n",
    "\n",
    "    # Write the data rows\n",
    "    for row in data:\n",
    "        writer.writerow(row)\n",
    "\n",
    "# Close the file\n",
    "file.close()\n"
   ]
  },
  {
   "cell_type": "code",
   "execution_count": 1,
   "metadata": {},
   "outputs": [
    {
     "ename": "NotImplementedError",
     "evalue": "Adafruit-PlatformDetect version 3.44.0 was unable to identify the board and/or microcontroller running the Windows platform. Please be sure you have the latest packages running: 'pip3 install --upgrade adafruit-blinka adafruit-platformdetect'",
     "output_type": "error",
     "traceback": [
      "\u001b[1;31m---------------------------------------------------------------------------\u001b[0m",
      "\u001b[1;31mNotImplementedError\u001b[0m                       Traceback (most recent call last)",
      "Cell \u001b[1;32mIn[1], line 1\u001b[0m\n\u001b[1;32m----> 1\u001b[0m \u001b[39mimport\u001b[39;00m \u001b[39mboard\u001b[39;00m\n\u001b[0;32m      2\u001b[0m \u001b[39mimport\u001b[39;00m \u001b[39mbusio\u001b[39;00m\n\u001b[0;32m      3\u001b[0m i2c \u001b[39m=\u001b[39m busio\u001b[39m.\u001b[39mI2C(board\u001b[39m.\u001b[39mSCL, board\u001b[39m.\u001b[39mSDA)\n",
      "File \u001b[1;32mc:\\Users\\xxamujrc\\AppData\\Local\\Programs\\Python\\Python310\\lib\\site-packages\\board.py:342\u001b[0m\n\u001b[0;32m    339\u001b[0m     \u001b[39mimport\u001b[39;00m \u001b[39mpkg_resources\u001b[39;00m\n\u001b[0;32m    341\u001b[0m     package \u001b[39m=\u001b[39m \u001b[39mstr\u001b[39m(pkg_resources\u001b[39m.\u001b[39mget_distribution(\u001b[39m\"\u001b[39m\u001b[39madafruit_platformdetect\u001b[39m\u001b[39m\"\u001b[39m))\u001b[39m.\u001b[39msplit()\n\u001b[1;32m--> 342\u001b[0m     \u001b[39mraise\u001b[39;00m \u001b[39mNotImplementedError\u001b[39;00m(\n\u001b[0;32m    343\u001b[0m         \u001b[39m\"\u001b[39m\u001b[39m{1}\u001b[39;00m\u001b[39m version \u001b[39m\u001b[39m{2}\u001b[39;00m\u001b[39m was unable to identify the board and/or microcontroller running \u001b[39m\u001b[39m\"\u001b[39m\n\u001b[0;32m    344\u001b[0m         \u001b[39m\"\u001b[39m\u001b[39mthe \u001b[39m\u001b[39m{0}\u001b[39;00m\u001b[39m platform. Please be sure you have the latest packages running: \u001b[39m\u001b[39m'\u001b[39m\u001b[39mpip3 install \u001b[39m\u001b[39m\"\u001b[39m\n\u001b[0;32m    345\u001b[0m         \u001b[39m\"\u001b[39m\u001b[39m--upgrade adafruit-blinka adafruit-platformdetect\u001b[39m\u001b[39m'\u001b[39m\u001b[39m\"\u001b[39m\u001b[39m.\u001b[39mformat(\n\u001b[0;32m    346\u001b[0m             platform\u001b[39m.\u001b[39msystem(), package[\u001b[39m0\u001b[39m], package[\u001b[39m1\u001b[39m]\n\u001b[0;32m    347\u001b[0m         )\n\u001b[0;32m    348\u001b[0m     )\n\u001b[0;32m    350\u001b[0m \u001b[39melse\u001b[39;00m:\n\u001b[0;32m    351\u001b[0m     \u001b[39mraise\u001b[39;00m \u001b[39mNotImplementedError\u001b[39;00m(\u001b[39m\"\u001b[39m\u001b[39mBoard not supported \u001b[39m\u001b[39m{}\u001b[39;00m\u001b[39m\"\u001b[39m\u001b[39m.\u001b[39mformat(board_id))\n",
      "\u001b[1;31mNotImplementedError\u001b[0m: Adafruit-PlatformDetect version 3.44.0 was unable to identify the board and/or microcontroller running the Windows platform. Please be sure you have the latest packages running: 'pip3 install --upgrade adafruit-blinka adafruit-platformdetect'"
     ]
    }
   ],
   "source": [
    "import board\n",
    "import busio\n",
    "i2c = busio.I2C(board.SCL, board.SDA)\n",
    "import adafruit_ads1x15.ads1115 as ADS\n",
    "from adafruit_ads1x15.analog_in import AnalogIn\n",
    "ads = ADS.ADS1115(i2c)\n",
    "chan = AnalogIn(ads, ADS.P0)\n",
    "print(chan.value, chan.voltage)\n"
   ]
  },
  {
   "cell_type": "code",
   "execution_count": 1,
   "metadata": {},
   "outputs": [
    {
     "name": "stdout",
     "output_type": "stream",
     "text": [
      "3.82\n",
      "1232.46\n"
     ]
    }
   ],
   "source": [
    "number = 3.8\n",
    "number += float(number/1023.0)*5.0\n",
    "number = float(round(number, 2))\n",
    "print(number)\n",
    "if number <2.5:\n",
    "    result = 3000\n",
    "else:\n",
    "    # number = float(pow(number))\n",
    "    result = float(-1120.4 * pow(number,2) + 5742.3 * number - 4353.8)\n",
    "    print(round(result,2))"
   ]
  },
  {
   "cell_type": "code",
   "execution_count": 4,
   "metadata": {},
   "outputs": [
    {
     "name": "stdout",
     "output_type": "stream",
     "text": [
      " * Serving Flask app '__main__' (lazy loading)\n",
      " * Environment: production\n",
      "\u001b[31m   WARNING: This is a development server. Do not use it in a production deployment.\u001b[0m\n",
      "\u001b[2m   Use a production WSGI server instead.\u001b[0m\n",
      " * Debug mode: off\n"
     ]
    },
    {
     "name": "stderr",
     "output_type": "stream",
     "text": [
      " * Running on http://127.0.0.1:5000 (Press CTRL+C to quit)\n",
      "127.0.0.1 - - [13/Apr/2023 11:31:10] \"GET / HTTP/1.1\" 404 -\n",
      "127.0.0.1 - - [13/Apr/2023 11:31:18] \"GET / HTTP/1.1\" 404 -\n",
      "127.0.0.1 - - [13/Apr/2023 11:31:19] \"GET /favicon.ico HTTP/1.1\" 404 -\n",
      "127.0.0.1 - - [13/Apr/2023 11:31:34] \"GET /csv-file HTTP/1.1\" 200 -\n",
      "127.0.0.1 - - [13/Apr/2023 11:31:44] \"GET / HTTP/1.1\" 404 -\n"
     ]
    }
   ],
   "source": [
    "from flask import Flask\n",
    "import os\n",
    "import csv\n",
    "\n",
    "app = Flask(__name__)\n",
    "@app.route('/csv-file')\n",
    "def csv_file():\n",
    "    file_path = os.path.join(os.getcwd(), 'I:/My Drive/HelloWorld/Python/random_data.csv')\n",
    "    with open(file_path, newline='') as csv_file:\n",
    "        data = list(csv.reader(csv_file))\n",
    "    return str(data)\n",
    "if __name__ == '__main__':\n",
    "    app.run()\n"
   ]
  },
  {
   "cell_type": "code",
   "execution_count": 7,
   "metadata": {},
   "outputs": [
    {
     "name": "stdout",
     "output_type": "stream",
     "text": [
      "Damping Ratio (zeta): 0.25\n",
      "Natural Frequency (wn): 9.24\n"
     ]
    }
   ],
   "source": [
    "import control\n",
    "\n",
    "# Define the transfer function coefficients\n",
    "num = [4]\n",
    "den = [1, 4, 25]  # Example coefficients for a second-order system\n",
    "\n",
    "# Create the transfer function model\n",
    "sys = control.TransferFunction(num, den)\n",
    "\n",
    "# Calculate step response information\n",
    "info = control.step_info(sys)\n",
    "\n",
    "# Extract the damping ratio and natural frequency from the step response information\n",
    "zeta = info['Overshoot'] / 100  # Damping ratio (approximated from percent overshoot)\n",
    "wn = 4 / (zeta * info['SettlingTime'])  # Natural frequency\n",
    "\n",
    "# Print the results\n",
    "print(\"Damping Ratio (zeta): {:.2f}\".format(zeta))\n",
    "print(\"Natural Frequency (wn): {:.2f}\".format(wn))\n"
   ]
  },
  {
   "cell_type": "code",
   "execution_count": 9,
   "metadata": {},
   "outputs": [
    {
     "name": "stdout",
     "output_type": "stream",
     "text": [
      "_____Eigenvalue______ Damping___ Frequency_\n",
      "        -2    +4.583j        0.4          5\n",
      "        -2    -4.583j        0.4          5\n"
     ]
    },
    {
     "data": {
      "image/png": "[encoded data removed]",
      "text/plain": [
       "<Figure size 640x480 with 1 Axes>"
      ]
     },
     "metadata": {},
     "output_type": "display_data"
    }
   ],
   "source": [
    "import control\n",
    "import matplotlib.pyplot as plt\n",
    "\n",
    "# Define the transfer function coefficients\n",
    "num = [4]\n",
    "den = [1, 4, 25]  # Example coefficients for a second-order system\n",
    "\n",
    "# Create the transfer function model\n",
    "sys = control.TransferFunction(num, den)\n",
    "\n",
    "# Calculate the natural frequency and damping ratio\n",
    "wn, zeta, _ = control.damp(sys)\n",
    "\n",
    "# Plot the natural frequency and damping ratio\n",
    "plt.figure()\n",
    "plt.plot(wn, zeta, 'x')\n",
    "plt.xlabel('Natural Frequency (wn)')\n",
    "plt.ylabel('Damping Ratio (zeta)')\n",
    "plt.title('Natural Frequency vs. Damping Ratio')\n",
    "plt.grid(True)\n",
    "plt.show()\n"
   ]
  },
  {
   "cell_type": "code",
   "execution_count": 1,
   "metadata": {},
   "outputs": [
    {
     "name": "stdout",
     "output_type": "stream",
     "text": [
      "25\n",
      "Natural Frequency (wn): 5.00\n"
     ]
    }
   ],
   "source": [
    "import numpy as np\n",
    "\n",
    "# Define the coefficients of the transfer function's denominator\n",
    "coefficients = [1, 4, 25]  # Example coefficients for a second-order system\n",
    "\n",
    "# Calculate the natural frequency\n",
    "print(coefficients[2])\n",
    "natural_frequency = np.sqrt(coefficients[2])\n",
    "\n",
    "# Print the result\n",
    "print(\"Natural Frequency (wn): {:.2f}\".format(natural_frequency))\n"
   ]
  },
  {
   "cell_type": "code",
   "execution_count": 1,
   "metadata": {},
   "outputs": [
    {
     "name": "stdout",
     "output_type": "stream",
     "text": [
      "0 1 2 3 4 5 6 7 8 9 \n",
      "Loop finished.\n"
     ]
    }
   ],
   "source": [
    "import time\n",
    "\n",
    "# Loop example\n",
    "for i in range(10):\n",
    "    print(i, end=\" \", flush=True)  # Use end=\" \" to stay on the same line\n",
    "    time.sleep(1)  # Simulate some delay between prints\n",
    "\n",
    "print(\"\\nLoop finished.\")  # Print a newline to move to the next line\n"
   ]
  },
  {
   "cell_type": "code",
   "execution_count": 2,
   "metadata": {},
   "outputs": [
    {
     "name": "stdout",
     "output_type": "stream",
     "text": [
      "Value: 9\r"
     ]
    }
   ],
   "source": [
    "import time\n",
    "\n",
    "def print_loop_output():\n",
    "    for i in range(10):\n",
    "        print(f\"Value: {i}\", end=\"\\r\")\n",
    "        time.sleep(1)\n",
    "\n",
    "print_loop_output()\n"
   ]
  },
  {
   "cell_type": "code",
   "execution_count": 13,
   "metadata": {},
   "outputs": [
    {
     "name": "stdout",
     "output_type": "stream",
     "text": [
      "Target time set: 07:49\n",
      "Current time: 07:49\r"
     ]
    },
    {
     "ename": "AttributeError",
     "evalue": "'WebDriver' object has no attribute 'find_element_by_xpath'",
     "output_type": "error",
     "traceback": [
      "\u001b[1;31m---------------------------------------------------------------------------\u001b[0m",
      "\u001b[1;31mAttributeError\u001b[0m                            Traceback (most recent call last)",
      "Cell \u001b[1;32mIn[13], line 46\u001b[0m\n\u001b[0;32m     43\u001b[0m \u001b[39mprint\u001b[39m(\u001b[39mf\u001b[39m\u001b[39m\"\u001b[39m\u001b[39mCurrent time: \u001b[39m\u001b[39m{\u001b[39;00mcurrent_time\u001b[39m}\u001b[39;00m\u001b[39m\"\u001b[39m, end\u001b[39m=\u001b[39m\u001b[39m\"\u001b[39m\u001b[39m\\r\u001b[39;00m\u001b[39m\"\u001b[39m)\n\u001b[0;32m     45\u001b[0m \u001b[39mif\u001b[39;00m current_time \u001b[39m==\u001b[39m target_time:\n\u001b[1;32m---> 46\u001b[0m     join_google_meet(google_meet_link, email_address, turn_off_camera, turn_off_microphone)\n\u001b[0;32m     47\u001b[0m     \u001b[39mbreak\u001b[39;00m\n\u001b[0;32m     49\u001b[0m time\u001b[39m.\u001b[39msleep(\u001b[39m10\u001b[39m)  \u001b[39m# Wait for 10 seconds before checking the time again\u001b[39;00m\n",
      "Cell \u001b[1;32mIn[13], line 17\u001b[0m, in \u001b[0;36mjoin_google_meet\u001b[1;34m(link, email, turn_off_camera, turn_off_microphone)\u001b[0m\n\u001b[0;32m     14\u001b[0m time\u001b[39m.\u001b[39msleep(\u001b[39m5\u001b[39m)  \u001b[39m# Wait for the page to load\u001b[39;00m\n\u001b[0;32m     16\u001b[0m \u001b[39m# Find and enter email address\u001b[39;00m\n\u001b[1;32m---> 17\u001b[0m email_input \u001b[39m=\u001b[39m driver\u001b[39m.\u001b[39;49mfind_element_by_xpath(\u001b[39m\"\u001b[39m\u001b[39m//input[@type=\u001b[39m\u001b[39m'\u001b[39m\u001b[39memail\u001b[39m\u001b[39m'\u001b[39m\u001b[39m]\u001b[39m\u001b[39m\"\u001b[39m)\n\u001b[0;32m     18\u001b[0m email_input\u001b[39m.\u001b[39msend_keys(email)\n\u001b[0;32m     19\u001b[0m email_input\u001b[39m.\u001b[39msend_keys(Keys\u001b[39m.\u001b[39mENTER)\n",
      "\u001b[1;31mAttributeError\u001b[0m: 'WebDriver' object has no attribute 'find_element_by_xpath'"
     ]
    }
   ],
   "source": [
    "from selenium import webdriver\n",
    "from selenium.webdriver.common.keys import Keys\n",
    "import time\n",
    "\n",
    "def join_google_meet(link, email, turn_off_camera=True, turn_off_microphone=True):\n",
    "    # Configure Edge options\n",
    "    edge_options = webdriver.EdgeOptions()\n",
    "    edge_options.use_chromium = True\n",
    "    edge_options.add_argument(\"--disable-notifications\")\n",
    "\n",
    "    # Initialize Edge WebDriver\n",
    "    driver = webdriver.Edge(options=edge_options)\n",
    "    driver.get(link)\n",
    "    time.sleep(5)  # Wait for the page to load\n",
    "\n",
    "    # Find and enter email address\n",
    "    email_input = driver.find_element_by_xpath(\"//input[@type='email']\")\n",
    "    email_input.send_keys(email)\n",
    "    email_input.send_keys(Keys.ENTER)\n",
    "    time.sleep(5)  # Wait for the login process\n",
    "\n",
    "    # Turn off camera and microphone\n",
    "    if turn_off_camera:\n",
    "        camera_button = driver.find_element_by_xpath(\"//div[@aria-label='Turn off camera']\")\n",
    "        camera_button.click()\n",
    "    if turn_off_microphone:\n",
    "        mic_button = driver.find_element_by_xpath(\"//div[@aria-label='Turn off microphone']\")\n",
    "        mic_button.click()\n",
    "\n",
    "# Set the Google Meet link and target time\n",
    "google_meet_link = \"https://meet.google.com/rre-byyf-ybv\"\n",
    "target_time = input(\"Enter meeting time in 24-hour format HH:MM: \")\n",
    "print(f\"Target time set: {target_time}\")\n",
    "\n",
    "# Set the email and microphone/camera preferences\n",
    "email_address = \"amuraojanryanchristian93@gmail.com\"\n",
    "turn_off_camera = True\n",
    "turn_off_microphone = True\n",
    "\n",
    "# Start the program\n",
    "while True:\n",
    "    current_time = time.strftime(\"%H:%M\")\n",
    "    print(f\"Current time: {current_time}\", end=\"\\r\")\n",
    "\n",
    "    if current_time == target_time:\n",
    "        join_google_meet(google_meet_link, email_address, turn_off_camera, turn_off_microphone)\n",
    "        break\n",
    "\n",
    "    time.sleep(10)  # Wait for 10 seconds before checking the time again\n"
   ]
  },
  {
   "cell_type": "code",
   "execution_count": 1,
   "metadata": {},
   "outputs": [
    {
     "data": {
      "image/png": "[encoded data removed]",
      "text/plain": [
       "<Figure size 640x480 with 1 Axes>"
      ]
     },
     "metadata": {},
     "output_type": "display_data"
    }
   ],
   "source": [
    "import matplotlib.pyplot as plt\n",
    "fig, ax = plt.subplots()\n",
    "# Define the layers and their sizes\n",
    "layers = [252, 1, 2, 252]\n",
    "\n",
    "# Plotting the layers\n",
    "for i in range(1, len(layers)):\n",
    "    ax.add_patch(plt.Rectangle((i - 1, 0), 1, layers[i], fill=False))  # Add rectangles for each layer\n",
    "    ax.text(i - 0.5, layers[i] / 2, str(layers[i]), ha='center', va='center')  # Add text for layer sizes\n",
    "\n",
    "# Connecting the layers with lines\n",
    "for i in range(len(layers) - 1):\n",
    "    ax.plot([i, i + 1], [layers[i] / 2, layers[i + 1] / 2], 'k-')\n",
    "ax.set_xlabel('Layers')\n",
    "ax.set_ylabel('Layer Size')\n",
    "ax.set_title('Machine Learning Architecture')\n",
    "ax.grid(True)\n",
    "plt.show()  # Display the plot\n",
    "# Alternatively, save the plot to a file:\n",
    "# plt.savefig('architecture.png')\n"
   ]
  },
  {
   "cell_type": "code",
   "execution_count": 3,
   "metadata": {},
   "outputs": [
    {
     "data": {
      "image/png": "[encoded data removed]",
      "text/plain": [
       "<Figure size 640x480 with 1 Axes>"
      ]
     },
     "metadata": {},
     "output_type": "display_data"
    }
   ],
   "source": [
    "import matplotlib.pyplot as plt\n",
    "\n",
    "# Define the number of input features and output targets\n",
    "num_input_features = 3\n",
    "num_output_targets = 1\n",
    "\n",
    "# Create a figure and axis object for plotting\n",
    "fig, ax = plt.subplots()\n",
    "\n",
    "# Plotting the input layer\n",
    "ax.add_patch(plt.Rectangle((0, 0), 1, num_input_features, fill=False))\n",
    "ax.text(0.5, num_input_features / 2, 'Input Layer', ha='center', va='center')\n",
    "\n",
    "# Plotting the output layer\n",
    "ax.add_patch(plt.Rectangle((2, 0), 1, num_output_targets, fill=False))\n",
    "ax.text(2.5, num_output_targets / 2, 'Output Layer', ha='center', va='center')\n",
    "\n",
    "# Connecting the layers with lines\n",
    "ax.plot([1, 2], [num_input_features / 2, num_output_targets / 2], 'k-')\n",
    "\n",
    "# Customize the plot\n",
    "ax.set_xlim([-1, 4])\n",
    "ax.set_ylim([-1, max(num_input_features, num_output_targets) + 1])\n",
    "ax.set_xlabel('Layers')\n",
    "ax.set_ylabel('Neurons')\n",
    "ax.set_title('Multiple Linear Regression Architecture')\n",
    "ax.grid(True)\n",
    "\n",
    "# Display the plot\n",
    "plt.show()\n"
   ]
  },
  {
   "cell_type": "code",
   "execution_count": 5,
   "metadata": {},
   "outputs": [
    {
     "data": {
      "image/png": "[encoded data removed]",
      "text/plain": [
       "<Figure size 640x480 with 1 Axes>"
      ]
     },
     "metadata": {},
     "output_type": "display_data"
    }
   ],
   "source": [
    "import matplotlib.pyplot as plt\n",
    "import numpy as np\n",
    "\n",
    "# Generate some random input features and output target\n",
    "np.random.seed(0)\n",
    "num_samples = 252\n",
    "X = np.random.randn(num_samples, 2)  # Two input features\n",
    "y = 2 * X[:, 0] - 3 * X[:, 1] + np.random.randn(num_samples)  # Output target\n",
    "\n",
    "# Create a figure and axis object for plotting\n",
    "fig, ax = plt.subplots()\n",
    "\n",
    "# Plot the input features and output target\n",
    "ax.scatter(X[:, 0], y, label='Feature 1')\n",
    "ax.scatter(X[:, 1], y, label='Feature 2')\n",
    "ax.set_xlabel('Input Features')\n",
    "ax.set_ylabel('Output Target')\n",
    "ax.set_title('Multiple Linear Regression')\n",
    "ax.legend()\n",
    "\n",
    "# Display the plot\n",
    "plt.show()\n"
   ]
  },
  {
   "cell_type": "code",
   "execution_count": 6,
   "metadata": {},
   "outputs": [
    {
     "ename": "NameError",
     "evalue": "name 'X_train' is not defined",
     "output_type": "error",
     "traceback": [
      "\u001b[1;31m---------------------------------------------------------------------------\u001b[0m",
      "\u001b[1;31mNameError\u001b[0m                                 Traceback (most recent call last)",
      "Cell \u001b[1;32mIn[6], line 7\u001b[0m\n\u001b[0;32m      4\u001b[0m model \u001b[39m=\u001b[39m LinearRegression()\n\u001b[0;32m      6\u001b[0m \u001b[39m# Fit the model to the training data\u001b[39;00m\n\u001b[1;32m----> 7\u001b[0m model\u001b[39m.\u001b[39mfit(X_train, y_train)\n\u001b[0;32m      9\u001b[0m \u001b[39m# Get the coefficients (weights) and the bias term (intercept)\u001b[39;00m\n\u001b[0;32m     10\u001b[0m coefficients \u001b[39m=\u001b[39m model\u001b[39m.\u001b[39mcoef_\n",
      "\u001b[1;31mNameError\u001b[0m: name 'X_train' is not defined"
     ]
    }
   ],
   "source": [
    "from sklearn.linear_model import LinearRegression\n",
    "\n",
    "# Create an instance of the LinearRegression model\n",
    "model = LinearRegression()\n",
    "\n",
    "# Fit the model to the training data\n",
    "model.fit(X_train, y_train)\n",
    "\n",
    "# Get the coefficients (weights) and the bias term (intercept)\n",
    "coefficients = model.coef_\n",
    "bias = model.intercept_\n",
    "\n",
    "# Print the coefficients and bias term\n",
    "print(\"Coefficients:\", coefficients)\n",
    "print(\"Bias:\", bias)\n"
   ]
  }
 ],
 "metadata": {
  "kernelspec": {
   "display_name": "Python 3",
   "language": "python",
   "name": "python3"
  },
  "language_info": {
   "codemirror_mode": {
    "name": "ipython",
    "version": 3
   },
   "file_extension": ".py",
   "mimetype": "text/x-python",
   "name": "python",
   "nbconvert_exporter": "python",
   "pygments_lexer": "ipython3",
   "version": "3.10.4"
  },
  "orig_nbformat": 4,
  "vscode": {
   "interpreter": {
    "hash": "5c709ec87899023191b182da351b9baaacb24058c2d00e3120528943310ad489"
   }
  }
 },
 "nbformat": 4,
 "nbformat_minor": 2
}
