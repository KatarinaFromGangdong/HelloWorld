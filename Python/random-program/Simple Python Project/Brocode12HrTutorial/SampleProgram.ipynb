{
 "cells": [
  {
   "cell_type": "code",
   "execution_count": null,
   "metadata": {},
   "outputs": [],
   "source": [
    "# simple WHILE statement\n",
    "name = input(\"Enter your name: \")\n",
    "ActiveUser = \"jillien\" or \"ryan\"\n",
    "while not name == ActiveUser:\n",
    "    print(\"Please enter a valid name!\")\n",
    "    name = input(\"Enter your name: \")\n",
    "print(f\"Welcome {name}!\")"
   ]
  },
  {
   "cell_type": "code",
   "execution_count": 10,
   "metadata": {},
   "outputs": [
    {
     "name": "stdout",
     "output_type": "stream",
     "text": [
      "23\n"
     ]
    }
   ],
   "source": [
    "from collections import namedtuple\n",
    "class_record = namedtuple('class_record', 'ID MARKS NAME CLASS')\n",
    "student_1 = class_record(1, 23, 4, 56)\n",
    "student_2 = class_record(2, 45, 3, 78)\n",
    "print(student_1.MARKS)"
   ]
  },
  {
   "cell_type": "code",
   "execution_count": 14,
   "metadata": {},
   "outputs": [
    {
     "name": "stdout",
     "output_type": "stream",
     "text": [
      "The spice cake cost $18 and is divided into 8 slices.\n",
      "The chocolate cake cost $24 and is divided into 6 slices.\n"
     ]
    }
   ],
   "source": [
    "class Cake:\n",
    "    def __init__(self, kind, price, slices):\n",
    "        self.kind = kind\n",
    "        self.price = price \n",
    "        self.slices = slices\n",
    "        \n",
    "    def describe(self):\n",
    "        return f\"The {self.kind} cake cost ${self.price} and is divided into {self.slices} slices.\"\n",
    "\n",
    "spice_cake = Cake(\"spice\",18,8)\n",
    "chocolate_cake = Cake(\"chocolate\",24,6)\n",
    "print(f\"{spice_cake.describe()}\\n{chocolate_cake.describe()}\")\n"
   ]
  },
  {
   "cell_type": "code",
   "execution_count": 17,
   "metadata": {},
   "outputs": [
    {
     "name": "stdout",
     "output_type": "stream",
     "text": [
      "[' ', 'a', 'c', 'h', 'i', 'j', 'm', 'n', 'o', 'r', 's', 't', 'u', 'y']\n",
      "None\n",
      "u\n"
     ]
    }
   ],
   "source": [
    "amu = \"jan ryan christian amurao\"\n",
    "amu_sorted = list(set(sorted(amu)))\n",
    "amu_sorted.sort()\n",
    "print(amu_sorted)\n",
    "print(amu_sorted.reverse())\n",
    "print(amu_sorted[1])"
   ]
  }
 ],
 "metadata": {
  "kernelspec": {
   "display_name": "Python 3",
   "language": "python",
   "name": "python3"
  },
  "language_info": {
   "codemirror_mode": {
    "name": "ipython",
    "version": 3
   },
   "file_extension": ".py",
   "mimetype": "text/x-python",
   "name": "python",
   "nbconvert_exporter": "python",
   "pygments_lexer": "ipython3",
   "version": "3.10.4"
  }
 },
 "nbformat": 4,
 "nbformat_minor": 2
}
