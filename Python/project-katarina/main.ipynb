{
 "cells": [
  {
   "cell_type": "code",
   "execution_count": 1,
   "metadata": {},
   "outputs": [
    {
     "name": "stdout",
     "output_type": "stream",
     "text": [
      "Wifi Name: RandomWifiName\n",
      "Password: ae092b32-987f-4e38-9eb0-041b085d38d5\n",
      "Access Granted\n"
     ]
    }
   ],
   "source": [
    "from uuid import uuid4\n",
    "import time\n",
    "\n",
    "wifiName = \"RandomWifiName\"\n",
    "Name = {\n",
    "    \"Wifi Name\" : wifiName,\n",
    "    \"Password\" : str(uuid4())\n",
    "}\n",
    "\n",
    "for k,v in Name.items():\n",
    "    print(k, v, sep=': ')\n",
    "\n",
    "passwordInput = input(\"password: \")\n",
    "# Time = time.sleep(10)\n",
    "# if Time == 10:\n",
    "#     print(\"break\")\n",
    "if passwordInput == v:\n",
    "    # check if the entered password is same as generated one or not\n",
    "    print('Access Granted')\n",
    "else:\n",
    "    print ('Invalid Password!')"
   ]
  },
  {
   "cell_type": "code",
   "execution_count": 9,
   "metadata": {},
   "outputs": [],
   "source": [
    "import pyttsx3\n",
    "\n",
    "engine = pyttsx3.init()\n",
    "voices = engine.getProperty('voices')\n",
    "rate = engine.getProperty('rate')\n",
    "engine.setProperty('rate', 140)\n",
    "engine.setProperty('voice', voices[1].id)\n",
    "\n",
    "def speak(audio):\n",
    "    engine.say(audio)\n",
    "    engine.runAndWait()\n",
    "\n",
    "speak(\"hello world\")"
   ]
  },
  {
   "cell_type": "code",
   "execution_count": 2,
   "metadata": {},
   "outputs": [
    {
     "name": "stderr",
     "output_type": "stream",
     "text": [
      "INFO (21/07/2023 11:07 AM): hello\n"
     ]
    }
   ],
   "source": [
    "import logging\n",
    "\n",
    "logging.basicConfig(format='%(levelname)s (%(asctime)s): %(message)s',\n",
    "                    datefmt='%d/%m/%Y %I:%M %p', \n",
    "                    level=logging.DEBUG)\n",
    "\n",
    "logging.info(\"hello\")"
   ]
  },
  {
   "cell_type": "code",
   "execution_count": null,
   "metadata": {},
   "outputs": [],
   "source": [
    "import wikipedia\n",
    "\n",
    "search = (\"wikipedia\",\"\")\n",
    "results = wikipedia.summary(search, sentences= 3)\n",
    "print(results)"
   ]
  },
  {
   "cell_type": "code",
   "execution_count": 11,
   "metadata": {},
   "outputs": [
    {
     "name": "stdout",
     "output_type": "stream",
     "text": [
      "jillien arche\n"
     ]
    }
   ],
   "source": [
    "query = input(\"\\nEnter your Query :\\t\").lower().strip()\n",
    "print(query)"
   ]
  },
  {
   "cell_type": "code",
   "execution_count": null,
   "metadata": {},
   "outputs": [],
   "source": [
    "def add(x,y):\n",
    "    return x+y\n",
    "def sub(x,y):\n",
    "    return y-x\n",
    "def multi(x,y):\n",
    "    return x*y\n",
    "def div(x,y):\n",
    "    return x/y\n",
    "\n",
    "while True:\n",
    "    num_1 = int(input(\"Enter no. 1: \"))\n",
    "    num_2 = int(input(\"Enter no. 2: \"))\n",
    "    operation = input(\"\"\"\n",
    "    MINI CALCULATOR\n",
    "    a. Addition\n",
    "    b. Subtraction\n",
    "    c. Multiplication\n",
    "    d. Division\n",
    "\n",
    "    choose the operation you want. ex.[a]: \n",
    "\"\"\")\n",
    "    if operation == \"a\":\n",
    "        result = add(num_1, num_2)\n",
    "        print(f\"The result of {num_1} and {num_2} is {result}\")\n",
    "    elif operation == \"b\":\n",
    "        result = sub(num_1, num_2)\n",
    "        print(f\"The result of {num_1} and {num_2} is {result}\")\n",
    "    elif operation == \"c\":\n",
    "        result = multi(num_1, num_2)\n",
    "        print(f\"The result of {num_1} and {num_2} is {result}\")\n",
    "    elif operation == \"d\":\n",
    "        result = div(num_1, num_2)\n",
    "        print(f\"The result of {num_1} and {num_2} is {result}\")\n",
    "    else:\n",
    "        print(\"ERROR 404: enter the valid format\")\n",
    "        break"
   ]
  },
  {
   "cell_type": "code",
   "execution_count": 9,
   "metadata": {},
   "outputs": [
    {
     "name": "stdout",
     "output_type": "stream",
     "text": [
      "Fire in the hole!!\n"
     ]
    }
   ],
   "source": [
    "# import the time module\n",
    "import time\n",
    "\n",
    "# define the countdown func.\n",
    "def countdown(t):\n",
    "\t\n",
    "\twhile t:\n",
    "\t\tmins, secs = divmod(t, 60)\n",
    "\t\ttimer = '{:02d}:{:02d}'.format(mins, secs)\n",
    "\t\tprint(timer, end=\"\\r\")\n",
    "\t\ttime.sleep(1)\n",
    "\t\tt -= 1\n",
    "\t\n",
    "\tprint('Fire in the hole!!')\n",
    "\n",
    "\n",
    "# input time in seconds\n",
    "t = 5\n",
    "\n",
    "# function call\n",
    "countdown(int(t))\n"
   ]
  },
  {
   "cell_type": "code",
   "execution_count": 5,
   "metadata": {},
   "outputs": [
    {
     "name": "stdout",
     "output_type": "stream",
     "text": [
      "Fire in the hole!!\n"
     ]
    }
   ],
   "source": [
    "t = 5\n",
    "while t:\n",
    "    mins, secs = divmod(t, 60)\n",
    "    timer = '{:02d}:{:02d}'.format(mins, secs)\n",
    "    print(timer, end=\"\\r\")\n",
    "    time.sleep(1)\n",
    "    t -= 1\n",
    "\t\n",
    "print('Fire in the hole!!')"
   ]
  }
 ],
 "metadata": {
  "kernelspec": {
   "display_name": "Python 3",
   "language": "python",
   "name": "python3"
  },
  "language_info": {
   "codemirror_mode": {
    "name": "ipython",
    "version": 3
   },
   "file_extension": ".py",
   "mimetype": "text/x-python",
   "name": "python",
   "nbconvert_exporter": "python",
   "pygments_lexer": "ipython3",
   "version": "3.10.4"
  },
  "orig_nbformat": 4
 },
 "nbformat": 4,
 "nbformat_minor": 2
}
